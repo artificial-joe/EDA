{
  "nbformat": 4,
  "nbformat_minor": 0,
  "metadata": {
    "colab": {
      "name": "Python EDA Viz Tools.ipynb",
      "provenance": [],
      "authorship_tag": "ABX9TyOlstdezVtrpl/rnCCCvMqj",
      "include_colab_link": true
    },
    "kernelspec": {
      "name": "python3",
      "display_name": "Python 3"
    },
    "language_info": {
      "name": "python"
    }
  },
  "cells": [
    {
      "cell_type": "markdown",
      "metadata": {
        "id": "view-in-github",
        "colab_type": "text"
      },
      "source": [
        "<a href=\"https://colab.research.google.com/github/artificial-joe/EDA/blob/main/Python_EDA_Viz_Tools.ipynb\" target=\"_parent\"><img src=\"https://colab.research.google.com/assets/colab-badge.svg\" alt=\"Open In Colab\"/></a>"
      ]
    },
    {
      "cell_type": "markdown",
      "metadata": {
        "id": "WEu1CLBhDcqH"
      },
      "source": [
        "**AutoViz Tool**\n",
        "\n",
        "Githib Repo https://github.com/AutoViML/AutoViz"
      ]
    },
    {
      "cell_type": "code",
      "metadata": {
        "id": "JMms8-2yDpC6"
      },
      "source": [
        "#!pip install autoviz"
      ],
      "execution_count": null,
      "outputs": []
    },
    {
      "cell_type": "code",
      "metadata": {
        "id": "1_hK8b0u-064"
      },
      "source": [
        "import pandas as pd\n",
        "from autoviz.AutoViz_Class import AutoViz_Class\n",
        "\n",
        "#EDA using Autoviz\n",
        "autoviz = AutoViz_Class().AutoViz('20170421021013.json')"
      ],
      "execution_count": null,
      "outputs": []
    },
    {
      "cell_type": "code",
      "metadata": {
        "id": "pAKo_rhGCZ6a"
      },
      "source": [
        ""
      ],
      "execution_count": null,
      "outputs": []
    },
    {
      "cell_type": "markdown",
      "metadata": {
        "id": "G_jmvnwhCnmQ"
      },
      "source": [
        "**Pandas Profiling viz Tool**\n",
        "\n",
        "Github Repo https://github.com/pandas-profiling/pandas-profiling/"
      ]
    },
    {
      "cell_type": "code",
      "metadata": {
        "id": "6yNOFSTJCZ9M"
      },
      "source": [
        "!pip install pandas-profiling"
      ],
      "execution_count": null,
      "outputs": []
    },
    {
      "cell_type": "code",
      "metadata": {
        "id": "6s3rGiYlCaAP"
      },
      "source": [
        "#Install the below libaries before importing\n",
        "import pandas as pd\n",
        "from pandas_profiling import ProfileReport\n",
        "\n",
        "#EDA using pandas-profiling\n",
        "profile = ProfileReport(pd.read_csv('20170421021013.json'), explorative=True)\n",
        "\n",
        "#Saving results to a HTML file\n",
        "profile.to_file(\"PP_output.html\")"
      ],
      "execution_count": null,
      "outputs": []
    },
    {
      "cell_type": "code",
      "metadata": {
        "id": "0jd6woZ2BPpY"
      },
      "source": [
        ""
      ],
      "execution_count": null,
      "outputs": []
    },
    {
      "cell_type": "markdown",
      "metadata": {
        "id": "eGs9l-AbDDqX"
      },
      "source": [
        "**Sweetviz Tool**\n",
        "\n",
        "Github Repo https://github.com/fbdesignpro/sweetviz"
      ]
    },
    {
      "cell_type": "code",
      "metadata": {
        "id": "CDFkNFhEBPsN"
      },
      "source": [
        "!pip install sweetviz"
      ],
      "execution_count": null,
      "outputs": []
    },
    {
      "cell_type": "code",
      "metadata": {
        "id": "yt73IM37BPvl"
      },
      "source": [
        "import pandas as pd\n",
        "import sweetviz as sv\n",
        "\n",
        "#EDA using Autoviz\n",
        "sweet_report = sv.analyze(pd.read_csv(\"20170421021013.json\"))\n",
        "\n",
        "#Saving results to HTML file\n",
        "sweet_report.show_html('Sweetviz_report.html')"
      ],
      "execution_count": null,
      "outputs": []
    },
    {
      "cell_type": "code",
      "metadata": {
        "id": "Ikzht6SXBPyt"
      },
      "source": [
        ""
      ],
      "execution_count": null,
      "outputs": []
    },
    {
      "cell_type": "markdown",
      "metadata": {
        "id": "gDnzo666DyBR"
      },
      "source": [
        "**D-Tale Viz Tool**\n",
        "\n",
        "Github Repo https://github.com/man-group/dtale"
      ]
    },
    {
      "cell_type": "code",
      "metadata": {
        "id": "nZw87YsFBP1n"
      },
      "source": [
        "!pip install dtale"
      ],
      "execution_count": null,
      "outputs": []
    },
    {
      "cell_type": "code",
      "metadata": {
        "id": "IM7S3awLBP52"
      },
      "source": [
        "import dtale\n",
        "import pandas as pd\n",
        "\n",
        "dtale.show(pd.read_csv'20170421021013.json')"
      ],
      "execution_count": null,
      "outputs": []
    },
    {
      "cell_type": "code",
      "metadata": {
        "id": "Mbm9pdQdEfHU"
      },
      "source": [
        ""
      ],
      "execution_count": null,
      "outputs": []
    },
    {
      "cell_type": "code",
      "metadata": {
        "id": "ZUCvK1VIBP-1"
      },
      "source": [
        ""
      ],
      "execution_count": null,
      "outputs": []
    }
  ]
}